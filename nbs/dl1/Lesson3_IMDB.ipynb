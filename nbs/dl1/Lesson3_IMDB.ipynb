{
 "cells": [
  {
   "cell_type": "markdown",
   "metadata": {},
   "source": [
    "# Imdb\n",
    "\n",
    "Introduction to `Text analysis` from IMDB reviews for movies. So let's important modules from fastai."
   ]
  },
  {
   "cell_type": "code",
   "execution_count": 1,
   "metadata": {},
   "outputs": [],
   "source": [
    "from fastai import *\n",
    "from fastai.text import *"
   ]
  },
  {
   "cell_type": "markdown",
   "metadata": {},
   "source": [
    "First let's download the dataset we are going to study. The [dataset](http://ai.stanford.edu/~amaas/data/sentiment/) has been curated by Andrew Maas et al. and contains a total of 100,000 reviews on IMDB. 25,000 of them are labelled as positive and negative for training, another 25,000 are labelled for testing (in both cases they are highly polarized). The remaning 50,000 is an additional unlabelled data (but we will find a use for it nonetheless)."
   ]
  },
  {
   "cell_type": "code",
   "execution_count": 2,
   "metadata": {},
   "outputs": [
    {
     "data": {
      "text/plain": [
       "[PosixPath('/home/anass/.fastai/data/imdb_sample/data_save.pkl'),\n",
       " PosixPath('/home/anass/.fastai/data/imdb_sample/texts.csv')]"
      ]
     },
     "execution_count": 2,
     "metadata": {},
     "output_type": "execute_result"
    }
   ],
   "source": [
    "path = untar_data(URLs.IMDB_SAMPLE)\n",
    "path.ls()"
   ]
  },
  {
   "cell_type": "markdown",
   "metadata": {},
   "source": [
    "It's just a `csv` file so we could open it with **pandas**"
   ]
  },
  {
   "cell_type": "code",
   "execution_count": 3,
   "metadata": {},
   "outputs": [
    {
     "data": {
      "text/html": [
       "<div>\n",
       "<style scoped>\n",
       "    .dataframe tbody tr th:only-of-type {\n",
       "        vertical-align: middle;\n",
       "    }\n",
       "\n",
       "    .dataframe tbody tr th {\n",
       "        vertical-align: top;\n",
       "    }\n",
       "\n",
       "    .dataframe thead th {\n",
       "        text-align: right;\n",
       "    }\n",
       "</style>\n",
       "<table border=\"1\" class=\"dataframe\">\n",
       "  <thead>\n",
       "    <tr style=\"text-align: right;\">\n",
       "      <th></th>\n",
       "      <th>label</th>\n",
       "      <th>text</th>\n",
       "      <th>is_valid</th>\n",
       "    </tr>\n",
       "  </thead>\n",
       "  <tbody>\n",
       "    <tr>\n",
       "      <th>0</th>\n",
       "      <td>negative</td>\n",
       "      <td>Un-bleeping-believable! Meg Ryan doesn't even ...</td>\n",
       "      <td>False</td>\n",
       "    </tr>\n",
       "    <tr>\n",
       "      <th>1</th>\n",
       "      <td>positive</td>\n",
       "      <td>This is a extremely well-made film. The acting...</td>\n",
       "      <td>False</td>\n",
       "    </tr>\n",
       "    <tr>\n",
       "      <th>2</th>\n",
       "      <td>negative</td>\n",
       "      <td>Every once in a long while a movie will come a...</td>\n",
       "      <td>False</td>\n",
       "    </tr>\n",
       "    <tr>\n",
       "      <th>3</th>\n",
       "      <td>positive</td>\n",
       "      <td>Name just says it all. I watched this movie wi...</td>\n",
       "      <td>False</td>\n",
       "    </tr>\n",
       "    <tr>\n",
       "      <th>4</th>\n",
       "      <td>negative</td>\n",
       "      <td>This movie succeeds at being one of the most u...</td>\n",
       "      <td>False</td>\n",
       "    </tr>\n",
       "  </tbody>\n",
       "</table>\n",
       "</div>"
      ],
      "text/plain": [
       "      label                                               text  is_valid\n",
       "0  negative  Un-bleeping-believable! Meg Ryan doesn't even ...     False\n",
       "1  positive  This is a extremely well-made film. The acting...     False\n",
       "2  negative  Every once in a long while a movie will come a...     False\n",
       "3  positive  Name just says it all. I watched this movie wi...     False\n",
       "4  negative  This movie succeeds at being one of the most u...     False"
      ]
     },
     "execution_count": 3,
     "metadata": {},
     "output_type": "execute_result"
    }
   ],
   "source": [
    "df = pd.read_csv(path/'texts.csv')\n",
    "df.head()"
   ]
  },
  {
   "cell_type": "markdown",
   "metadata": {},
   "source": [
    "The data contains labels from the *first* column and **Text** in the second. The third column is to determin either the text should be on the **validation** set or not."
   ]
  },
  {
   "cell_type": "code",
   "execution_count": 4,
   "metadata": {},
   "outputs": [
    {
     "data": {
      "text/plain": [
       "'This is a extremely well-made film. The acting, script and camera-work are all first-rate. The music is good, too, though it is mostly early in the film, when things are still relatively cheery. There are no really superstars in the cast, though several faces will be familiar. The entire cast does an excellent job with the script.<br /><br />But it is hard to watch, because there is no good end to a situation like the one presented. It is now fashionable to blame the British for setting Hindus and Muslims against each other, and then cruelly separating them into two countries. There is some merit in this view, but it\\'s also true that no one forced Hindus and Muslims in the region to mistreat each other as they did around the time of partition. It seems more likely that the British simply saw the tensions between the religions and were clever enough to exploit them to their own ends.<br /><br />The result is that there is much cruelty and inhumanity in the situation and this is very unpleasant to remember and to see on the screen. But it is never painted as a black-and-white case. There is baseness and nobility on both sides, and also the hope for change in the younger generation.<br /><br />There is redemption of a sort, in the end, when Puro has to make a hard choice between a man who has ruined her life, but also truly loved her, and her family which has disowned her, then later come looking for her. But by that point, she has no option that is without great pain for her.<br /><br />This film carries the message that both Muslims and Hindus have their grave faults, and also that both can be dignified and caring people. The reality of partition makes that realisation all the more wrenching, since there can never be real reconciliation across the India/Pakistan border. In that sense, it is similar to \"Mr & Mrs Iyer\".<br /><br />In the end, we were glad to have seen the film, even though the resolution was heartbreaking. If the UK and US could deal with their own histories of racism with this kind of frankness, they would certainly be better off.'"
      ]
     },
     "execution_count": 4,
     "metadata": {},
     "output_type": "execute_result"
    }
   ],
   "source": [
    "df['text'][1]"
   ]
  },
  {
   "cell_type": "markdown",
   "metadata": {},
   "source": [
    "Let's create a `dataBunch` from the csv file then"
   ]
  },
  {
   "cell_type": "code",
   "execution_count": 6,
   "metadata": {},
   "outputs": [],
   "source": [
    "data_lm = TextDataBunch.from_csv(path,'texts.csv')"
   ]
  },
  {
   "cell_type": "markdown",
   "metadata": {},
   "source": [
    "A text is composed of words, and we can't apply mathematical functions to them directly. \n",
    "\n",
    "We first have to convert them to numbers. This is done in two differents steps:\n",
    " * tokenization \n",
    " * numericalization.\n",
    " \n",
    " A TextDataBunch does all of that behind the scenes for you. So let's save the model"
   ]
  },
  {
   "cell_type": "code",
   "execution_count": 6,
   "metadata": {},
   "outputs": [],
   "source": [
    "data_lm.save()"
   ]
  },
  {
   "cell_type": "code",
   "execution_count": 7,
   "metadata": {},
   "outputs": [
    {
     "data": {
      "text/plain": [
       "['xxunk',\n",
       " 'xxpad',\n",
       " 'xxbos',\n",
       " 'xxeos',\n",
       " 'xxfld',\n",
       " 'xxmaj',\n",
       " 'xxup',\n",
       " 'xxrep',\n",
       " 'xxwrep',\n",
       " 'the']"
      ]
     },
     "execution_count": 7,
     "metadata": {},
     "output_type": "execute_result"
    }
   ],
   "source": [
    "data_lm.vocab.itos[:10]  # show the list of tokens"
   ]
  },
  {
   "cell_type": "markdown",
   "metadata": {},
   "source": [
    "Let's get a look a single data element"
   ]
  },
  {
   "cell_type": "code",
   "execution_count": 8,
   "metadata": {},
   "outputs": [
    {
     "data": {
      "text/plain": [
       "array([   2,   19,   42,   15,   43, 1364,   10,   19,   25,  981])"
      ]
     },
     "execution_count": 8,
     "metadata": {},
     "output_type": "execute_result"
    }
   ],
   "source": [
    "data_lm.train_ds[0][0].data[:10]  # it's a list of element each one representing a vocabulary token"
   ]
  },
  {
   "cell_type": "markdown",
   "metadata": {},
   "source": [
    "Let's do this with `data block` API"
   ]
  },
  {
   "cell_type": "code",
   "execution_count": 9,
   "metadata": {},
   "outputs": [
    {
     "name": "stderr",
     "output_type": "stream",
     "text": [
      "/home/anass/anaconda3/envs/fastai/lib/python3.7/site-packages/fastai/data_block.py:519: UserWarning: You are labelling your items with CategoryList.\n",
      "Your valid set contained the following unknown labels, the corresponding items have been discarded.\n",
      "True\n",
      "  if getattr(ds, 'warn', False): warn(ds.warn)\n"
     ]
    }
   ],
   "source": [
    "data = (TextList.from_csv(path,'texts.csv',cols='text')\n",
    "       .split_from_df(col=2)\n",
    "       .label_from_df(cols=2)\n",
    "       .databunch())"
   ]
  },
  {
   "cell_type": "markdown",
   "metadata": {},
   "source": [
    "## Language model"
   ]
  },
  {
   "cell_type": "markdown",
   "metadata": {},
   "source": [
    "For **NLP** Problems, we must creat two models\n",
    "\n",
    "* **Language model** : with word embedding\n",
    "* **classifier**: with Rucurrent Neural networks"
   ]
  },
  {
   "cell_type": "code",
   "execution_count": 10,
   "metadata": {},
   "outputs": [],
   "source": [
    "bs =  48        #batch size"
   ]
  },
  {
   "cell_type": "code",
   "execution_count": 11,
   "metadata": {},
   "outputs": [
    {
     "data": {
      "text/plain": [
       "[PosixPath('/home/anass/.fastai/data/imdb/imdb.vocab'),\n",
       " PosixPath('/home/anass/.fastai/data/imdb/tmp_clas'),\n",
       " PosixPath('/home/anass/.fastai/data/imdb/models'),\n",
       " PosixPath('/home/anass/.fastai/data/imdb/data_lm.pkl'),\n",
       " PosixPath('/home/anass/.fastai/data/imdb/test'),\n",
       " PosixPath('/home/anass/.fastai/data/imdb/unsup'),\n",
       " PosixPath('/home/anass/.fastai/data/imdb/tmp_lm'),\n",
       " PosixPath('/home/anass/.fastai/data/imdb/train'),\n",
       " PosixPath('/home/anass/.fastai/data/imdb/README')]"
      ]
     },
     "execution_count": 11,
     "metadata": {},
     "output_type": "execute_result"
    }
   ],
   "source": [
    "path = untar_data(URLs.IMDB)\n",
    "path.ls()"
   ]
  },
  {
   "cell_type": "code",
   "execution_count": 12,
   "metadata": {},
   "outputs": [
    {
     "data": {
      "text/plain": [
       "[PosixPath('/home/anass/.fastai/data/imdb/train/unsupBow.feat'),\n",
       " PosixPath('/home/anass/.fastai/data/imdb/train/labeledBow.feat'),\n",
       " PosixPath('/home/anass/.fastai/data/imdb/train/pos'),\n",
       " PosixPath('/home/anass/.fastai/data/imdb/train/neg')]"
      ]
     },
     "execution_count": 12,
     "metadata": {},
     "output_type": "execute_result"
    }
   ],
   "source": [
    "(path/'train').ls()"
   ]
  },
  {
   "cell_type": "markdown",
   "metadata": {},
   "source": [
    "The data is split by folder with **train**, **test** and unlabelled data"
   ]
  },
  {
   "cell_type": "code",
   "execution_count": 13,
   "metadata": {},
   "outputs": [],
   "source": [
    "data_lm = (TextList.from_folder(path)\n",
    "          .filter_by_folder(include=['train','test'])\n",
    "          .split_by_rand_pct(0.1)\n",
    "          .label_for_lm()\n",
    "          .databunch(bs=bs))"
   ]
  },
  {
   "cell_type": "code",
   "execution_count": 12,
   "metadata": {},
   "outputs": [],
   "source": [
    "#save the model to load quickly next time\n",
    "#data_lm.save('data_lm.pkl')\n",
    "data_lm = load_data(path, 'data_lm.pkl', bs = bs)"
   ]
  },
  {
   "cell_type": "code",
   "execution_count": 13,
   "metadata": {},
   "outputs": [
    {
     "data": {
      "text/html": [
       "<table border=\"1\" class=\"dataframe\">\n",
       "  <thead>\n",
       "    <tr style=\"text-align: right;\">\n",
       "      <th>idx</th>\n",
       "      <th>text</th>\n",
       "    </tr>\n",
       "  </thead>\n",
       "  <tbody>\n",
       "    <tr>\n",
       "      <td>0</td>\n",
       "      <td>good looking little movie more akin to the low budget films of its day . xxmaj despite what you may think this film actually has a good script with funny jokes and good songs . xxmaj its an naughty little tale for adults . xxmaj if you 're wondering whether or not my recommendation is a good one or not consider that the film was pretty much only available</td>\n",
       "    </tr>\n",
       "    <tr>\n",
       "      <td>1</td>\n",
       "      <td>head off and start anew . xxmaj strangely enough , she travels with her husband 's mistress , who is forgiveable given that the sleazebag never told her he was married . xxmaj and together , while driving in the pouring rain , they meet a third , very mysterious young man with a suitcase full of secrets . xxmaj while they 're giddy and free and all suspicious</td>\n",
       "    </tr>\n",
       "    <tr>\n",
       "      <td>2</td>\n",
       "      <td>you absolutely have no idea of what 's happening or why , and this feeling of utter xxunk is unquestionably the film 's main xxunk . xxmaj as a viewer , you crave to help this poor woman understand the things that overcome her , but you simply ca n't . xxmaj alice has a successful career as an interpreter , but her quiet and peaceful life gets brutally</td>\n",
       "    </tr>\n",
       "    <tr>\n",
       "      <td>3</td>\n",
       "      <td>on , xxmaj bruno calls himself a \" bum \" , accurate enough except for our rooting interest in him , even as he wrecks xxmaj guy 's life with his homicidal meddling . xxmaj it 's the ultimate perverse underdog 's tale . xxmaj there 's a sense of integrity about xxmaj bruno , in his dogged dedication , which commands our respect and which xxmaj hitchcock plays</td>\n",
       "    </tr>\n",
       "    <tr>\n",
       "      <td>4</td>\n",
       "      <td>( with english subtitles ) . xxmaj the documentary proved extra interesting when it analyzed the often censored \" xxmaj emmanuelle xxmaj in xxmaj america \" . xxmaj here xxmaj d'amato xxunk the faked \" snuff \" scenes in detail and recalls some funny stories . xxmaj in fact , good ol' xxmaj joe is very warm and funny throughout , always wearing a smile and smoking a cigarette</td>\n",
       "    </tr>\n",
       "  </tbody>\n",
       "</table>"
      ],
      "text/plain": [
       "<IPython.core.display.HTML object>"
      ]
     },
     "metadata": {},
     "output_type": "display_data"
    }
   ],
   "source": [
    "data_lm.show_batch()"
   ]
  },
  {
   "cell_type": "markdown",
   "metadata": {},
   "source": [
    "Let's create a langage `model_learner` practically, this is a class to perform `Reccurent Neural network` to learn the best represenation of the text."
   ]
  },
  {
   "cell_type": "code",
   "execution_count": 14,
   "metadata": {},
   "outputs": [],
   "source": [
    "learn =  language_model_learner(data_lm, AWD_LSTM, drop_mult=0.3)"
   ]
  },
  {
   "cell_type": "code",
   "execution_count": 15,
   "metadata": {},
   "outputs": [
    {
     "data": {
      "text/html": [],
      "text/plain": [
       "<IPython.core.display.HTML object>"
      ]
     },
     "metadata": {},
     "output_type": "display_data"
    },
    {
     "name": "stdout",
     "output_type": "stream",
     "text": [
      "LR Finder is complete, type {learner_name}.recorder.plot() to see the graph.\n"
     ]
    }
   ],
   "source": [
    "learn.lr_find()"
   ]
  },
  {
   "cell_type": "code",
   "execution_count": 17,
   "metadata": {},
   "outputs": [
    {
     "data": {
      "image/png": "[encoded data removed]",
      "text/plain": [
       "<Figure size 432x288 with 1 Axes>"
      ]
     },
     "metadata": {
      "needs_background": "light"
     },
     "output_type": "display_data"
    }
   ],
   "source": [
    "learn.recorder.plot(skip_end=15)"
   ]
  },
  {
   "cell_type": "code",
   "execution_count": 18,
   "metadata": {},
   "outputs": [
    {
     "data": {
      "text/html": [
       "Total time: 19:34 <p><table border=\"1\" class=\"dataframe\">\n",
       "  <thead>\n",
       "    <tr style=\"text-align: left;\">\n",
       "      <th>epoch</th>\n",
       "      <th>train_loss</th>\n",
       "      <th>valid_loss</th>\n",
       "      <th>accuracy</th>\n",
       "      <th>time</th>\n",
       "    </tr>\n",
       "  </thead>\n",
       "  <tbody>\n",
       "    <tr>\n",
       "      <td>0</td>\n",
       "      <td>4.176400</td>\n",
       "      <td>4.028815</td>\n",
       "      <td>0.293845</td>\n",
       "      <td>19:34</td>\n",
       "    </tr>\n",
       "  </tbody>\n",
       "</table>"
      ],
      "text/plain": [
       "<IPython.core.display.HTML object>"
      ]
     },
     "metadata": {},
     "output_type": "display_data"
    }
   ],
   "source": [
    "learn.fit_one_cycle(1,1e-2, moms=(0.8,0.7))"
   ]
  },
  {
   "cell_type": "code",
   "execution_count": 19,
   "metadata": {},
   "outputs": [],
   "source": [
    "learn.save('fit_head')"
   ]
  },
  {
   "cell_type": "code",
   "execution_count": 20,
   "metadata": {
    "collapsed": true
   },
   "outputs": [
    {
     "data": {
      "text/plain": [
       "LanguageLearner(data=TextLMDataBunch;\n",
       "\n",
       "Train: LabelList (45000 items)\n",
       "x: LMTextList\n",
       "xxbos xxmaj adult version of the classic xxmaj lewis xxmaj carroll tale is much better than you might expect . xxmaj here xxmaj alice is a virginal librarian who falls down the rabbit hole and learns to love sex and her own self image . xxmaj made at the time when adult films were creative endeavors with plots instead of just a series of sex scenes , this is a good looking little movie more akin to the low budget films of its day . xxmaj despite what you may think this film actually has a good script with funny jokes and good songs . xxmaj its an naughty little tale for adults . xxmaj if you 're wondering whether or not my recommendation is a good one or not consider that the film was pretty much only available in its non - hardcore version for the better part of the last three decades simply because the film stands up with out the sex , which is how i first saw the film years ago on cable xxup tv . xxmaj the relatively recent home video release on xxup dvd put back the sex ( in horribly grainy inserted clips ) which makes it clear the removal of the shots was the best choice all around . xxmaj if you 're an open minded adult with a taste for something spicy i can heartily recommend this little film as a nice diversion .,xxbos xxmaj realistic xxmaj master - xxmaj piece . thirty years later , the pictures can look a bit old , but actually , it only accurate the ' fist in the face ' effect of the movie . i never saw in my whole life a film like this one . xxmaj first time i saw it , i did n't know if it was a fiction ... xxmaj and xxmaj it did n't looked like ... xxmaj that movie is a masterpiece that every single person in the world have to see . xxmaj it 's the best ever society critical movie . xxmaj the ultimate movie that demonstrate that the system is down . xxmaj and the system has not change a lot , in thirty years . i think this movie would have to be watched as an education piece .,xxbos xxmaj robert xxmaj montgomery and xxmaj robert xxmaj young are outstanding as a duo of young submarine officers stationed in xxmaj italy during xxmaj world xxmaj war xxup i. xxmaj the dialog is highly entertaining , and xxmaj jimmy xxmaj durante is hilarious as the ship 's cook , \" xxmaj xxunk \" . xxmaj walter xxmaj huston 's character is inspiring as the captain of the submarine , a stellar example of an officer and a gentleman . xxmaj one of the most interesting aspects of this movie was the level of technology displayed in the battle scenes . i was surprised at how similar the technology of xxmaj world xxmaj war i was to the technology displayed 25 years later in xxmaj world xxmaj war xxup ii . xxmaj basic human nature was portrayed as very similar to modern times , and far from the xxunk i thought existed in the so - called \" innocent \" past . xxmaj all in all i felt that the cast , characters , action scenes , and view of history depicted in this movie were first - rate .,xxbos xxmaj putney xxmaj swope is the story of a token black man on the board of directors of a large advertising firm who is accidentally voted xxmaj chairman of the xxmaj board when the owner of the firm keels over while trying to stutter out an idea that he was apparently quite excited about . xxmaj putney , of course , takes his new role to heart and fires most everyone in the agency , hires a new crew ( all black except for a token white guy ) and proceeds to crank out the most offensive and non - xxup pc commercials one could ever ask for . xxmaj now it 's a rather motley crew he has and despite that they somehow manage to be successful while raking in the cash . i rather like the scene where potential advertisers are being relieved of bags of cash and then told to \" get out \" . xxmaj and their commercials will follow later , like them or not . xxmaj the story is good but of course the highlight here is the nasty commercials themselves , especially the one for \" xxmaj face xxmaj off \" acne cream . xxmaj this is rather dated , but still a fun movie , and full of hilarious moments . xxmaj robert xxmaj downey xxmaj sr . was working for an ad agency doing experimental ads at the time and i guess this was his middle finger to xxmaj madison xxmaj avenue agencies . xxmaj very good and pretty damned funny . 8 out of 10 .,xxbos xxmaj with xxup wwii over , movie studios quickly rushed to focus on vets returning home . \" xxmaj the xxmaj best xxmaj years of xxmaj our xxmaj lives \" was probably the best example . xxmaj it portrays various people returning home and how they have to readjust not only to their pre - war lives , but to the overall changing world . xxmaj probably the most interesting cast member is non - actor xxmaj harold xxmaj russell . xxmaj having lost his hands in the war , he plays a man with hooks where his hands used to be , and reminds people that he wants to be treated just like everyone else ; he went on to win xxmaj best xxmaj supporting xxmaj actor and a special xxmaj oscar for the role , making him the only person ever to win two xxmaj oscars for the same role . xxmaj there will probably always be debate over whether this deserved xxmaj best xxmaj picture more than \" xxmaj it 's a xxmaj wonderful xxmaj life \" , but i certainly think that they did a good job with it . xxmaj very well done .\n",
       "y: LMLabelList\n",
       ",,,,\n",
       "Path: /home/anass/.fastai/data/imdb;\n",
       "\n",
       "Valid: LabelList (5000 items)\n",
       "x: LMTextList\n",
       "xxbos i grew up outside of xxmaj xxunk xxmaj xxunk they xxunk detail of the film was 100 % authentic , the power lines that they flew over , the nosy neighbors , the grandmother telling the kids that they ca nt watch west xxmaj german xxup tv , etc .. xxmaj this movie brings back lots of good memories to those that are xxmaj european , a great production from xxmaj disney ... xxmaj the same movie in xxmaj german has xxmaj klaus xxmaj xxunk and xxmaj xxunk xxmaj xxunk using their own voices for translating the xxmaj english version into xxmaj german ... for the xxmaj german version they also use xxmaj xxunk birds , a bird that is native to xxmaj germany as background noise to let you know that you are in xxmaj germany .. i showed this move to many of my xxmaj german relative and they really liked this xxunk people made made a prototype balloon which they had to give up because the materials that they used was too xxunk and the other 2 balloons that they used for the escape . xxmaj the burner problem was solved when they turned the xxunk cylinders upside down . ),xxbos i tend to fall in and out of love with anime , as the more you watch the more you notice a lot of shows are just poor copies of the few gems or rehashes of old formulas . xxmaj but every once in a while one of the true gems comes along and it 's originality just blows you away . xxmaj haruhi is truly one of those shows . xxmaj many anime series are originally manga and sometimes the translation into an animated show is rather poorly done and does n't utilize the benefits animation has over static drawings . xxmaj haruhi is actually based on a series of light novels and fires on all cylinders , beautiful animation , great voice acting , great music and a complete and well paced story . xxmaj watch it you wo n't be disappointed , and i 'd suggest watching it in broadcast order it works so much better that way .,xxbos xxmaj warning : xxmaj herzog is a filmaker , and as such tends to be a bit overly dramatic . xxmaj so obsessions about closing doors may or may not be a real part of the character 's life , but a filmaker 's dramatic embellishment - or so both agreed at the premiere in xxmaj san xxmaj francisco . xxmaj but xxmaj herzog 's usual fascination with character , dreams and perseverance are well suited by this story first published in xxmaj soldier of xxmaj fortune , and now a full length autobiographical book . ( xxmaj the xxmaj soldier of xxmaj fortune comment brought loud boos from the politically correct xxup sf audience , and both filmaker and main character had to ensure the audience who had just seen the film , that xxup xxunk 's interest was misplaced - so warning , this is not xxmaj rambo , just survival . ),xxbos xxmaj it 's amazing that from a good , though not wonderful , film made back in the early xxmaj nineties , a whole franchise can grow . ' xxmaj stargate ; xxup sg1 ' is , without a doubt , a worthy addition to the science fiction genre and has the right to stand shoulder - to - shoulder with ' xxmaj star xxmaj trek ' as the kings of sci - fi . \n",
       " \n",
       "  xxmaj following on from the 1994 feature film ' xxmaj stargate ' , this series sees xxmaj stargate command ( a military / science organisation ) figuring out that the stargate system can be used to travel to various planets across the galaxy and beyond and the military sets up a number of teams to explore . xxup sg1 is one such team , headed by military veteran xxmaj colonel xxmaj jack o'neill , and includes archaeologist xxmaj doctor xxmaj daniel xxmaj jackson , military scientist xxmaj captain xxmaj samantha xxmaj carter and alien xxmaj teal'c , who has betrayed his overlord leaders in the hopes of one day freeing his people . xxmaj earth quickly makes an enemy of the xxmaj goa'uld , a parasitic race who use humans as hosts and think themselves equal to gods . \n",
       " \n",
       "  xxmaj the top - notch cast have much to be congratulated for in bringing this show to life . xxmaj richard xxmaj dean xxmaj anderson is perfect as the cynical and sarcastic o'neill , who can shift from boyish to deadly in the blink of an eye . xxmaj michael xxmaj shanks , as xxmaj daniel , brings heart and an will of steel to the character , who has grown from wide - eyed innocence to darker and more hard - bitten as the show has progressed . xxmaj amanda xxmaj tapping , as xxmaj carter , has perfected the balance between depicting her character 's femininity without comprising the fact she is a strong , intelligent military scientist . xxmaj christopher xxmaj judge is excellent as the aloof xxmaj teal'c , who is able to depict the character 's emotions with subtlety . xxmaj and xxmaj don s xxmaj davis is perfect as the esteemed xxmaj general xxmaj hammond who leads with a good balance of fairness and xxunk . \n",
       " \n",
       "  xxmaj almost all the episodes are are involving and portrayed with intelligence , reflecting on moral dilemmas as well as the friction between military interests and civilian beliefs ( often shown through arguments between o'neill and xxmaj jackson ) . xxmaj guest characters are solidly depicted and story arcs are handled in a manner that does n't bore viewers . xxup sg1 also excels in humour , from o'neill 's wisecracks to episodes that are just wacky and odd ! xxup sg1 has everything from action to drama to romance to suspense to the heartbreaking scenes of death . xxmaj it is n't just an excellent sci - fi show but is an excellent show , overall .,xxbos i was lucky enough to see the \" xxmaj horror xxmaj classics \" xxup dvd version of this film before it was mysteriously removed from the 4 film xxup dvd and replaced with something else . xxmaj the picture and sound quality of the film on that edition was a nightmare in itself . xxmaj yet , that version is xxup still superior to the one with the deluxe xxup dvd treatment . xxmaj the reason was stated in xxmaj brad xxmaj fiedel 's interview segments on the xxmaj special xxmaj edition xxup dvd . xxmaj he had noted what i first found so striking about this film . xxmaj this being the use of music at moments of xxunk in the film , but leaving the moments of activity in silence , thus giving the horror scenes a stronger feel . xxmaj the problem with this reissue is it carries the extra film score used to fill in these intentional gaps in score . xxmaj fiedel complained of this and made it clear that the filler music was not his . xxmaj the music actually sounded a lot like xxmaj howard xxmaj shore 's work for xxmaj videodrome . xxmaj sad for me that i am also a major fan of that film and have to associate the two . \n",
       " \n",
       "  xxmaj the film itself managed to add some interesting realistic elements to the genre horror film . a group of friends go up on a mountain one of them inherited . xxmaj on the mountain they are confronted with a family with a nightmarish secret . xxmaj the movie moves along at a great pace . xxmaj in fact every time i have seen it , i still find myself shocked to see 45 minutes had passed before things started really going wrong for the campers . \n",
       " \n",
       "  xxmaj while the xxmaj horror xxmaj classics version is filled with many gaps , the fact that there is no score accompanying the horror scenes is what makes this film intelligent and even superior to most slasher films i have ever seen . xxmaj the xxmaj director xxmaj jeff xxmaj lieberman had made some unique horror films previous to this one making this one the most mainstream and yet , very different to the mainstream at the same time . xxmaj it is a good fun film with surprising acting performances to boot . xxmaj the new xxunk up xxup dvd version is worth a rent , the now collectors item xxmaj horror xxmaj classics version , now xxup oop is worth the hunt .\n",
       "y: LMLabelList\n",
       ",,,,\n",
       "Path: /home/anass/.fastai/data/imdb;\n",
       "\n",
       "Test: None, model=SequentialRNN(\n",
       "  (0): AWD_LSTM(\n",
       "    (encoder): Embedding(49949, 400, padding_idx=1)\n",
       "    (encoder_dp): EmbeddingDropout(\n",
       "      (emb): Embedding(49949, 400, padding_idx=1)\n",
       "    )\n",
       "    (rnns): ModuleList(\n",
       "      (0): WeightDropout(\n",
       "        (module): LSTM(400, 1150, batch_first=True)\n",
       "      )\n",
       "      (1): WeightDropout(\n",
       "        (module): LSTM(1150, 1150, batch_first=True)\n",
       "      )\n",
       "      (2): WeightDropout(\n",
       "        (module): LSTM(1150, 400, batch_first=True)\n",
       "      )\n",
       "    )\n",
       "    (input_dp): RNNDropout()\n",
       "    (hidden_dps): ModuleList(\n",
       "      (0): RNNDropout()\n",
       "      (1): RNNDropout()\n",
       "      (2): RNNDropout()\n",
       "    )\n",
       "  )\n",
       "  (1): LinearDecoder(\n",
       "    (decoder): Linear(in_features=400, out_features=49949, bias=True)\n",
       "    (output_dp): RNNDropout()\n",
       "  )\n",
       "), opt_func=functools.partial(<class 'torch.optim.adam.Adam'>, betas=(0.9, 0.99)), loss_func=FlattenedLoss of CrossEntropyLoss(), metrics=[<function accuracy at 0x7fd7bdc93378>], true_wd=True, bn_wd=True, wd=0.01, train_bn=True, path=PosixPath('/home/anass/.fastai/data/imdb'), model_dir='models', callback_fns=[functools.partial(<class 'fastai.basic_train.Recorder'>, add_time=True)], callbacks=[RNNTrainer\n",
       "learn: ...\n",
       "alpha: 2.0\n",
       "beta: 1.0], layer_groups=[Sequential(\n",
       "  (0): WeightDropout(\n",
       "    (module): LSTM(400, 1150, batch_first=True)\n",
       "  )\n",
       "  (1): RNNDropout()\n",
       "), Sequential(\n",
       "  (0): WeightDropout(\n",
       "    (module): LSTM(1150, 1150, batch_first=True)\n",
       "  )\n",
       "  (1): RNNDropout()\n",
       "), Sequential(\n",
       "  (0): WeightDropout(\n",
       "    (module): LSTM(1150, 400, batch_first=True)\n",
       "  )\n",
       "  (1): RNNDropout()\n",
       "), Sequential(\n",
       "  (0): Embedding(49949, 400, padding_idx=1)\n",
       "  (1): EmbeddingDropout(\n",
       "    (emb): Embedding(49949, 400, padding_idx=1)\n",
       "  )\n",
       "  (2): LinearDecoder(\n",
       "    (decoder): Linear(in_features=400, out_features=49949, bias=True)\n",
       "    (output_dp): RNNDropout()\n",
       "  )\n",
       ")], add_time=True)"
      ]
     },
     "execution_count": 20,
     "metadata": {},
     "output_type": "execute_result"
    }
   ],
   "source": [
    "learn.load('fit_head')"
   ]
  },
  {
   "cell_type": "markdown",
   "metadata": {},
   "source": [
    "To complete the **finetuning**, we can then unfreeze and launch a new training"
   ]
  },
  {
   "cell_type": "code",
   "execution_count": 21,
   "metadata": {},
   "outputs": [],
   "source": [
    "learn.unfreeze()"
   ]
  },
  {
   "cell_type": "code",
   "execution_count": 23,
   "metadata": {},
   "outputs": [
    {
     "data": {
      "text/html": [
       "Total time: 22:04 <p><table border=\"1\" class=\"dataframe\">\n",
       "  <thead>\n",
       "    <tr style=\"text-align: left;\">\n",
       "      <th>epoch</th>\n",
       "      <th>train_loss</th>\n",
       "      <th>valid_loss</th>\n",
       "      <th>accuracy</th>\n",
       "      <th>time</th>\n",
       "    </tr>\n",
       "  </thead>\n",
       "  <tbody>\n",
       "    <tr>\n",
       "      <td>0</td>\n",
       "      <td>3.867905</td>\n",
       "      <td>3.822616</td>\n",
       "      <td>0.316021</td>\n",
       "      <td>22:04</td>\n",
       "    </tr>\n",
       "  </tbody>\n",
       "</table>"
      ],
      "text/plain": [
       "<IPython.core.display.HTML object>"
      ]
     },
     "metadata": {},
     "output_type": "display_data"
    }
   ],
   "source": [
    "learn.fit_one_cycle(1,1e-3, moms=(0.8,0.7))"
   ]
  },
  {
   "cell_type": "code",
   "execution_count": 24,
   "metadata": {},
   "outputs": [],
   "source": [
    "learn.save('fine_tune_01')"
   ]
  },
  {
   "cell_type": "code",
   "execution_count": 26,
   "metadata": {
    "collapsed": true
   },
   "outputs": [
    {
     "data": {
      "text/plain": [
       "LanguageLearner(data=TextLMDataBunch;\n",
       "\n",
       "Train: LabelList (45000 items)\n",
       "x: LMTextList\n",
       "xxbos xxmaj adult version of the classic xxmaj lewis xxmaj carroll tale is much better than you might expect . xxmaj here xxmaj alice is a virginal librarian who falls down the rabbit hole and learns to love sex and her own self image . xxmaj made at the time when adult films were creative endeavors with plots instead of just a series of sex scenes , this is a good looking little movie more akin to the low budget films of its day . xxmaj despite what you may think this film actually has a good script with funny jokes and good songs . xxmaj its an naughty little tale for adults . xxmaj if you 're wondering whether or not my recommendation is a good one or not consider that the film was pretty much only available in its non - hardcore version for the better part of the last three decades simply because the film stands up with out the sex , which is how i first saw the film years ago on cable xxup tv . xxmaj the relatively recent home video release on xxup dvd put back the sex ( in horribly grainy inserted clips ) which makes it clear the removal of the shots was the best choice all around . xxmaj if you 're an open minded adult with a taste for something spicy i can heartily recommend this little film as a nice diversion .,xxbos xxmaj realistic xxmaj master - xxmaj piece . thirty years later , the pictures can look a bit old , but actually , it only accurate the ' fist in the face ' effect of the movie . i never saw in my whole life a film like this one . xxmaj first time i saw it , i did n't know if it was a fiction ... xxmaj and xxmaj it did n't looked like ... xxmaj that movie is a masterpiece that every single person in the world have to see . xxmaj it 's the best ever society critical movie . xxmaj the ultimate movie that demonstrate that the system is down . xxmaj and the system has not change a lot , in thirty years . i think this movie would have to be watched as an education piece .,xxbos xxmaj robert xxmaj montgomery and xxmaj robert xxmaj young are outstanding as a duo of young submarine officers stationed in xxmaj italy during xxmaj world xxmaj war xxup i. xxmaj the dialog is highly entertaining , and xxmaj jimmy xxmaj durante is hilarious as the ship 's cook , \" xxmaj xxunk \" . xxmaj walter xxmaj huston 's character is inspiring as the captain of the submarine , a stellar example of an officer and a gentleman . xxmaj one of the most interesting aspects of this movie was the level of technology displayed in the battle scenes . i was surprised at how similar the technology of xxmaj world xxmaj war i was to the technology displayed 25 years later in xxmaj world xxmaj war xxup ii . xxmaj basic human nature was portrayed as very similar to modern times , and far from the xxunk i thought existed in the so - called \" innocent \" past . xxmaj all in all i felt that the cast , characters , action scenes , and view of history depicted in this movie were first - rate .,xxbos xxmaj putney xxmaj swope is the story of a token black man on the board of directors of a large advertising firm who is accidentally voted xxmaj chairman of the xxmaj board when the owner of the firm keels over while trying to stutter out an idea that he was apparently quite excited about . xxmaj putney , of course , takes his new role to heart and fires most everyone in the agency , hires a new crew ( all black except for a token white guy ) and proceeds to crank out the most offensive and non - xxup pc commercials one could ever ask for . xxmaj now it 's a rather motley crew he has and despite that they somehow manage to be successful while raking in the cash . i rather like the scene where potential advertisers are being relieved of bags of cash and then told to \" get out \" . xxmaj and their commercials will follow later , like them or not . xxmaj the story is good but of course the highlight here is the nasty commercials themselves , especially the one for \" xxmaj face xxmaj off \" acne cream . xxmaj this is rather dated , but still a fun movie , and full of hilarious moments . xxmaj robert xxmaj downey xxmaj sr . was working for an ad agency doing experimental ads at the time and i guess this was his middle finger to xxmaj madison xxmaj avenue agencies . xxmaj very good and pretty damned funny . 8 out of 10 .,xxbos xxmaj with xxup wwii over , movie studios quickly rushed to focus on vets returning home . \" xxmaj the xxmaj best xxmaj years of xxmaj our xxmaj lives \" was probably the best example . xxmaj it portrays various people returning home and how they have to readjust not only to their pre - war lives , but to the overall changing world . xxmaj probably the most interesting cast member is non - actor xxmaj harold xxmaj russell . xxmaj having lost his hands in the war , he plays a man with hooks where his hands used to be , and reminds people that he wants to be treated just like everyone else ; he went on to win xxmaj best xxmaj supporting xxmaj actor and a special xxmaj oscar for the role , making him the only person ever to win two xxmaj oscars for the same role . xxmaj there will probably always be debate over whether this deserved xxmaj best xxmaj picture more than \" xxmaj it 's a xxmaj wonderful xxmaj life \" , but i certainly think that they did a good job with it . xxmaj very well done .\n",
       "y: LMLabelList\n",
       ",,,,\n",
       "Path: /home/anass/.fastai/data/imdb;\n",
       "\n",
       "Valid: LabelList (5000 items)\n",
       "x: LMTextList\n",
       "xxbos i grew up outside of xxmaj xxunk xxmaj xxunk they xxunk detail of the film was 100 % authentic , the power lines that they flew over , the nosy neighbors , the grandmother telling the kids that they ca nt watch west xxmaj german xxup tv , etc .. xxmaj this movie brings back lots of good memories to those that are xxmaj european , a great production from xxmaj disney ... xxmaj the same movie in xxmaj german has xxmaj klaus xxmaj xxunk and xxmaj xxunk xxmaj xxunk using their own voices for translating the xxmaj english version into xxmaj german ... for the xxmaj german version they also use xxmaj xxunk birds , a bird that is native to xxmaj germany as background noise to let you know that you are in xxmaj germany .. i showed this move to many of my xxmaj german relative and they really liked this xxunk people made made a prototype balloon which they had to give up because the materials that they used was too xxunk and the other 2 balloons that they used for the escape . xxmaj the burner problem was solved when they turned the xxunk cylinders upside down . ),xxbos i tend to fall in and out of love with anime , as the more you watch the more you notice a lot of shows are just poor copies of the few gems or rehashes of old formulas . xxmaj but every once in a while one of the true gems comes along and it 's originality just blows you away . xxmaj haruhi is truly one of those shows . xxmaj many anime series are originally manga and sometimes the translation into an animated show is rather poorly done and does n't utilize the benefits animation has over static drawings . xxmaj haruhi is actually based on a series of light novels and fires on all cylinders , beautiful animation , great voice acting , great music and a complete and well paced story . xxmaj watch it you wo n't be disappointed , and i 'd suggest watching it in broadcast order it works so much better that way .,xxbos xxmaj warning : xxmaj herzog is a filmaker , and as such tends to be a bit overly dramatic . xxmaj so obsessions about closing doors may or may not be a real part of the character 's life , but a filmaker 's dramatic embellishment - or so both agreed at the premiere in xxmaj san xxmaj francisco . xxmaj but xxmaj herzog 's usual fascination with character , dreams and perseverance are well suited by this story first published in xxmaj soldier of xxmaj fortune , and now a full length autobiographical book . ( xxmaj the xxmaj soldier of xxmaj fortune comment brought loud boos from the politically correct xxup sf audience , and both filmaker and main character had to ensure the audience who had just seen the film , that xxup xxunk 's interest was misplaced - so warning , this is not xxmaj rambo , just survival . ),xxbos xxmaj it 's amazing that from a good , though not wonderful , film made back in the early xxmaj nineties , a whole franchise can grow . ' xxmaj stargate ; xxup sg1 ' is , without a doubt , a worthy addition to the science fiction genre and has the right to stand shoulder - to - shoulder with ' xxmaj star xxmaj trek ' as the kings of sci - fi . \n",
       " \n",
       "  xxmaj following on from the 1994 feature film ' xxmaj stargate ' , this series sees xxmaj stargate command ( a military / science organisation ) figuring out that the stargate system can be used to travel to various planets across the galaxy and beyond and the military sets up a number of teams to explore . xxup sg1 is one such team , headed by military veteran xxmaj colonel xxmaj jack o'neill , and includes archaeologist xxmaj doctor xxmaj daniel xxmaj jackson , military scientist xxmaj captain xxmaj samantha xxmaj carter and alien xxmaj teal'c , who has betrayed his overlord leaders in the hopes of one day freeing his people . xxmaj earth quickly makes an enemy of the xxmaj goa'uld , a parasitic race who use humans as hosts and think themselves equal to gods . \n",
       " \n",
       "  xxmaj the top - notch cast have much to be congratulated for in bringing this show to life . xxmaj richard xxmaj dean xxmaj anderson is perfect as the cynical and sarcastic o'neill , who can shift from boyish to deadly in the blink of an eye . xxmaj michael xxmaj shanks , as xxmaj daniel , brings heart and an will of steel to the character , who has grown from wide - eyed innocence to darker and more hard - bitten as the show has progressed . xxmaj amanda xxmaj tapping , as xxmaj carter , has perfected the balance between depicting her character 's femininity without comprising the fact she is a strong , intelligent military scientist . xxmaj christopher xxmaj judge is excellent as the aloof xxmaj teal'c , who is able to depict the character 's emotions with subtlety . xxmaj and xxmaj don s xxmaj davis is perfect as the esteemed xxmaj general xxmaj hammond who leads with a good balance of fairness and xxunk . \n",
       " \n",
       "  xxmaj almost all the episodes are are involving and portrayed with intelligence , reflecting on moral dilemmas as well as the friction between military interests and civilian beliefs ( often shown through arguments between o'neill and xxmaj jackson ) . xxmaj guest characters are solidly depicted and story arcs are handled in a manner that does n't bore viewers . xxup sg1 also excels in humour , from o'neill 's wisecracks to episodes that are just wacky and odd ! xxup sg1 has everything from action to drama to romance to suspense to the heartbreaking scenes of death . xxmaj it is n't just an excellent sci - fi show but is an excellent show , overall .,xxbos i was lucky enough to see the \" xxmaj horror xxmaj classics \" xxup dvd version of this film before it was mysteriously removed from the 4 film xxup dvd and replaced with something else . xxmaj the picture and sound quality of the film on that edition was a nightmare in itself . xxmaj yet , that version is xxup still superior to the one with the deluxe xxup dvd treatment . xxmaj the reason was stated in xxmaj brad xxmaj fiedel 's interview segments on the xxmaj special xxmaj edition xxup dvd . xxmaj he had noted what i first found so striking about this film . xxmaj this being the use of music at moments of xxunk in the film , but leaving the moments of activity in silence , thus giving the horror scenes a stronger feel . xxmaj the problem with this reissue is it carries the extra film score used to fill in these intentional gaps in score . xxmaj fiedel complained of this and made it clear that the filler music was not his . xxmaj the music actually sounded a lot like xxmaj howard xxmaj shore 's work for xxmaj videodrome . xxmaj sad for me that i am also a major fan of that film and have to associate the two . \n",
       " \n",
       "  xxmaj the film itself managed to add some interesting realistic elements to the genre horror film . a group of friends go up on a mountain one of them inherited . xxmaj on the mountain they are confronted with a family with a nightmarish secret . xxmaj the movie moves along at a great pace . xxmaj in fact every time i have seen it , i still find myself shocked to see 45 minutes had passed before things started really going wrong for the campers . \n",
       " \n",
       "  xxmaj while the xxmaj horror xxmaj classics version is filled with many gaps , the fact that there is no score accompanying the horror scenes is what makes this film intelligent and even superior to most slasher films i have ever seen . xxmaj the xxmaj director xxmaj jeff xxmaj lieberman had made some unique horror films previous to this one making this one the most mainstream and yet , very different to the mainstream at the same time . xxmaj it is a good fun film with surprising acting performances to boot . xxmaj the new xxunk up xxup dvd version is worth a rent , the now collectors item xxmaj horror xxmaj classics version , now xxup oop is worth the hunt .\n",
       "y: LMLabelList\n",
       ",,,,\n",
       "Path: /home/anass/.fastai/data/imdb;\n",
       "\n",
       "Test: None, model=SequentialRNN(\n",
       "  (0): AWD_LSTM(\n",
       "    (encoder): Embedding(49949, 400, padding_idx=1)\n",
       "    (encoder_dp): EmbeddingDropout(\n",
       "      (emb): Embedding(49949, 400, padding_idx=1)\n",
       "    )\n",
       "    (rnns): ModuleList(\n",
       "      (0): WeightDropout(\n",
       "        (module): LSTM(400, 1150, batch_first=True)\n",
       "      )\n",
       "      (1): WeightDropout(\n",
       "        (module): LSTM(1150, 1150, batch_first=True)\n",
       "      )\n",
       "      (2): WeightDropout(\n",
       "        (module): LSTM(1150, 400, batch_first=True)\n",
       "      )\n",
       "    )\n",
       "    (input_dp): RNNDropout()\n",
       "    (hidden_dps): ModuleList(\n",
       "      (0): RNNDropout()\n",
       "      (1): RNNDropout()\n",
       "      (2): RNNDropout()\n",
       "    )\n",
       "  )\n",
       "  (1): LinearDecoder(\n",
       "    (decoder): Linear(in_features=400, out_features=49949, bias=True)\n",
       "    (output_dp): RNNDropout()\n",
       "  )\n",
       "), opt_func=functools.partial(<class 'torch.optim.adam.Adam'>, betas=(0.9, 0.99)), loss_func=FlattenedLoss of CrossEntropyLoss(), metrics=[<function accuracy at 0x7fd7bdc93378>], true_wd=True, bn_wd=True, wd=0.01, train_bn=True, path=PosixPath('/home/anass/.fastai/data/imdb'), model_dir='models', callback_fns=[functools.partial(<class 'fastai.basic_train.Recorder'>, add_time=True)], callbacks=[RNNTrainer\n",
       "learn: ...\n",
       "alpha: 2.0\n",
       "beta: 1.0], layer_groups=[Sequential(\n",
       "  (0): WeightDropout(\n",
       "    (module): LSTM(400, 1150, batch_first=True)\n",
       "  )\n",
       "  (1): RNNDropout()\n",
       "), Sequential(\n",
       "  (0): WeightDropout(\n",
       "    (module): LSTM(1150, 1150, batch_first=True)\n",
       "  )\n",
       "  (1): RNNDropout()\n",
       "), Sequential(\n",
       "  (0): WeightDropout(\n",
       "    (module): LSTM(1150, 400, batch_first=True)\n",
       "  )\n",
       "  (1): RNNDropout()\n",
       "), Sequential(\n",
       "  (0): Embedding(49949, 400, padding_idx=1)\n",
       "  (1): EmbeddingDropout(\n",
       "    (emb): Embedding(49949, 400, padding_idx=1)\n",
       "  )\n",
       "  (2): LinearDecoder(\n",
       "    (decoder): Linear(in_features=400, out_features=49949, bias=True)\n",
       "    (output_dp): RNNDropout()\n",
       "  )\n",
       ")], add_time=True)"
      ]
     },
     "execution_count": 26,
     "metadata": {},
     "output_type": "execute_result"
    }
   ],
   "source": [
    "learn.load('fine_tune_01')"
   ]
  },
  {
   "cell_type": "markdown",
   "metadata": {},
   "source": [
    "Let's predict some texts with our models"
   ]
  },
  {
   "cell_type": "code",
   "execution_count": 27,
   "metadata": {},
   "outputs": [],
   "source": [
    "TEXT = \"I liked this movie because\"\n",
    "N_WORDS   = 40\n",
    "N_SENTENCES = 2"
   ]
  },
  {
   "cell_type": "code",
   "execution_count": 31,
   "metadata": {},
   "outputs": [],
   "source": [
    "clauses = [learn.predict(TEXT,N_WORDS,temperature=0.8) for i in range(N_SENTENCES)]"
   ]
  },
  {
   "cell_type": "code",
   "execution_count": 29,
   "metadata": {},
   "outputs": [
    {
     "name": "stdout",
     "output_type": "stream",
     "text": [
      "predicted clause is  I liked this movie because it is about a young boy named Gary who is forced to fight . He started is a kid and started to show hatred for the father . When he gets around performance in RELIGIOUS movies\n"
     ]
    }
   ],
   "source": [
    "print(\"\\n\")"
   ]
  },
  {
   "cell_type": "code",
   "execution_count": null,
   "metadata": {},
   "outputs": [],
   "source": []
  }
 ],
 "metadata": {
  "kernelspec": {
   "display_name": "Python 3",
   "language": "python",
   "name": "python3"
  },
  "language_info": {
   "codemirror_mode": {
    "name": "ipython",
    "version": 3
   },
   "file_extension": ".py",
   "mimetype": "text/x-python",
   "name": "python",
   "nbconvert_exporter": "python",
   "pygments_lexer": "ipython3",
   "version": "3.7.2"
  }
 },
 "nbformat": 4,
 "nbformat_minor": 2
}
